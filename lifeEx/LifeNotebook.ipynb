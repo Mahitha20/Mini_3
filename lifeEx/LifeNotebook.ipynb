{
 "cells": [
  {
   "cell_type": "code",
   "execution_count": 1,
   "metadata": {},
   "outputs": [],
   "source": [
    "import numpy as np\n",
    "import pandas as pd\n",
    "import matplotlib.pyplot as plt"
   ]
  },
  {
   "cell_type": "code",
   "execution_count": 3,
   "metadata": {},
   "outputs": [],
   "source": [
    "df= pd.read_csv(\"Life Expectancy Data.csv\")"
   ]
  },
  {
   "cell_type": "code",
   "execution_count": 4,
   "metadata": {},
   "outputs": [
    {
     "output_type": "execute_result",
     "data": {
      "text/plain": [
       "       Country  Year      Status  Life expectancy   Adult Mortality  \\\n",
       "0  Afghanistan  2015  Developing              65.0            263.0   \n",
       "1  Afghanistan  2014  Developing              59.9            271.0   \n",
       "2  Afghanistan  2013  Developing              59.9            268.0   \n",
       "3  Afghanistan  2012  Developing              59.5            272.0   \n",
       "4  Afghanistan  2011  Developing              59.2            275.0   \n",
       "\n",
       "   infant deaths  Alcohol  percentage expenditure  Hepatitis B  Measles   ...  \\\n",
       "0             62     0.01               71.279624         65.0      1154  ...   \n",
       "1             64     0.01               73.523582         62.0       492  ...   \n",
       "2             66     0.01               73.219243         64.0       430  ...   \n",
       "3             69     0.01               78.184215         67.0      2787  ...   \n",
       "4             71     0.01                7.097109         68.0      3013  ...   \n",
       "\n",
       "   Polio  Total expenditure  Diphtheria    HIV/AIDS         GDP  Population  \\\n",
       "0    6.0               8.16         65.0        0.1  584.259210  33736494.0   \n",
       "1   58.0               8.18         62.0        0.1  612.696514    327582.0   \n",
       "2   62.0               8.13         64.0        0.1  631.744976  31731688.0   \n",
       "3   67.0               8.52         67.0        0.1  669.959000   3696958.0   \n",
       "4   68.0               7.87         68.0        0.1   63.537231   2978599.0   \n",
       "\n",
       "    thinness  1-19 years   thinness 5-9 years  \\\n",
       "0                   17.2                 17.3   \n",
       "1                   17.5                 17.5   \n",
       "2                   17.7                 17.7   \n",
       "3                   17.9                 18.0   \n",
       "4                   18.2                 18.2   \n",
       "\n",
       "   Income composition of resources  Schooling  \n",
       "0                            0.479       10.1  \n",
       "1                            0.476       10.0  \n",
       "2                            0.470        9.9  \n",
       "3                            0.463        9.8  \n",
       "4                            0.454        9.5  \n",
       "\n",
       "[5 rows x 22 columns]"
      ],
      "text/html": "<div>\n<style scoped>\n    .dataframe tbody tr th:only-of-type {\n        vertical-align: middle;\n    }\n\n    .dataframe tbody tr th {\n        vertical-align: top;\n    }\n\n    .dataframe thead th {\n        text-align: right;\n    }\n</style>\n<table border=\"1\" class=\"dataframe\">\n  <thead>\n    <tr style=\"text-align: right;\">\n      <th></th>\n      <th>Country</th>\n      <th>Year</th>\n      <th>Status</th>\n      <th>Life expectancy</th>\n      <th>Adult Mortality</th>\n      <th>infant deaths</th>\n      <th>Alcohol</th>\n      <th>percentage expenditure</th>\n      <th>Hepatitis B</th>\n      <th>Measles</th>\n      <th>...</th>\n      <th>Polio</th>\n      <th>Total expenditure</th>\n      <th>Diphtheria</th>\n      <th>HIV/AIDS</th>\n      <th>GDP</th>\n      <th>Population</th>\n      <th>thinness  1-19 years</th>\n      <th>thinness 5-9 years</th>\n      <th>Income composition of resources</th>\n      <th>Schooling</th>\n    </tr>\n  </thead>\n  <tbody>\n    <tr>\n      <th>0</th>\n      <td>Afghanistan</td>\n      <td>2015</td>\n      <td>Developing</td>\n      <td>65.0</td>\n      <td>263.0</td>\n      <td>62</td>\n      <td>0.01</td>\n      <td>71.279624</td>\n      <td>65.0</td>\n      <td>1154</td>\n      <td>...</td>\n      <td>6.0</td>\n      <td>8.16</td>\n      <td>65.0</td>\n      <td>0.1</td>\n      <td>584.259210</td>\n      <td>33736494.0</td>\n      <td>17.2</td>\n      <td>17.3</td>\n      <td>0.479</td>\n      <td>10.1</td>\n    </tr>\n    <tr>\n      <th>1</th>\n      <td>Afghanistan</td>\n      <td>2014</td>\n      <td>Developing</td>\n      <td>59.9</td>\n      <td>271.0</td>\n      <td>64</td>\n      <td>0.01</td>\n      <td>73.523582</td>\n      <td>62.0</td>\n      <td>492</td>\n      <td>...</td>\n      <td>58.0</td>\n      <td>8.18</td>\n      <td>62.0</td>\n      <td>0.1</td>\n      <td>612.696514</td>\n      <td>327582.0</td>\n      <td>17.5</td>\n      <td>17.5</td>\n      <td>0.476</td>\n      <td>10.0</td>\n    </tr>\n    <tr>\n      <th>2</th>\n      <td>Afghanistan</td>\n      <td>2013</td>\n      <td>Developing</td>\n      <td>59.9</td>\n      <td>268.0</td>\n      <td>66</td>\n      <td>0.01</td>\n      <td>73.219243</td>\n      <td>64.0</td>\n      <td>430</td>\n      <td>...</td>\n      <td>62.0</td>\n      <td>8.13</td>\n      <td>64.0</td>\n      <td>0.1</td>\n      <td>631.744976</td>\n      <td>31731688.0</td>\n      <td>17.7</td>\n      <td>17.7</td>\n      <td>0.470</td>\n      <td>9.9</td>\n    </tr>\n    <tr>\n      <th>3</th>\n      <td>Afghanistan</td>\n      <td>2012</td>\n      <td>Developing</td>\n      <td>59.5</td>\n      <td>272.0</td>\n      <td>69</td>\n      <td>0.01</td>\n      <td>78.184215</td>\n      <td>67.0</td>\n      <td>2787</td>\n      <td>...</td>\n      <td>67.0</td>\n      <td>8.52</td>\n      <td>67.0</td>\n      <td>0.1</td>\n      <td>669.959000</td>\n      <td>3696958.0</td>\n      <td>17.9</td>\n      <td>18.0</td>\n      <td>0.463</td>\n      <td>9.8</td>\n    </tr>\n    <tr>\n      <th>4</th>\n      <td>Afghanistan</td>\n      <td>2011</td>\n      <td>Developing</td>\n      <td>59.2</td>\n      <td>275.0</td>\n      <td>71</td>\n      <td>0.01</td>\n      <td>7.097109</td>\n      <td>68.0</td>\n      <td>3013</td>\n      <td>...</td>\n      <td>68.0</td>\n      <td>7.87</td>\n      <td>68.0</td>\n      <td>0.1</td>\n      <td>63.537231</td>\n      <td>2978599.0</td>\n      <td>18.2</td>\n      <td>18.2</td>\n      <td>0.454</td>\n      <td>9.5</td>\n    </tr>\n  </tbody>\n</table>\n<p>5 rows × 22 columns</p>\n</div>"
     },
     "metadata": {},
     "execution_count": 4
    }
   ],
   "source": [
    "df.head()"
   ]
  },
  {
   "cell_type": "code",
   "execution_count": 6,
   "metadata": {},
   "outputs": [
    {
     "output_type": "stream",
     "name": "stdout",
     "text": [
      "<class 'pandas.core.frame.DataFrame'>\nRangeIndex: 2938 entries, 0 to 2937\nData columns (total 22 columns):\n #   Column                           Non-Null Count  Dtype  \n---  ------                           --------------  -----  \n 0   Country                          2938 non-null   object \n 1   Year                             2938 non-null   int64  \n 2   Status                           2938 non-null   object \n 3   Life expectancy                  2928 non-null   float64\n 4   Adult Mortality                  2928 non-null   float64\n 5   infant deaths                    2938 non-null   int64  \n 6   Alcohol                          2744 non-null   float64\n 7   percentage expenditure           2938 non-null   float64\n 8   Hepatitis B                      2385 non-null   float64\n 9   Measles                          2938 non-null   int64  \n 10   BMI                             2904 non-null   float64\n 11  under-five deaths                2938 non-null   int64  \n 12  Polio                            2919 non-null   float64\n 13  Total expenditure                2712 non-null   float64\n 14  Diphtheria                       2919 non-null   float64\n 15   HIV/AIDS                        2938 non-null   float64\n 16  GDP                              2490 non-null   float64\n 17  Population                       2286 non-null   float64\n 18   thinness  1-19 years            2904 non-null   float64\n 19   thinness 5-9 years              2904 non-null   float64\n 20  Income composition of resources  2771 non-null   float64\n 21  Schooling                        2775 non-null   float64\ndtypes: float64(16), int64(4), object(2)\nmemory usage: 505.1+ KB\n"
     ]
    }
   ],
   "source": [
    "df.info(0)"
   ]
  },
  {
   "cell_type": "code",
   "execution_count": 10,
   "metadata": {},
   "outputs": [
    {
     "data": {
      "text/plain": [
       "Index(['Country', 'Year', 'Status', 'Life expectancy ', 'Adult Mortality',\n",
       "       'infant deaths', 'Alcohol', 'percentage expenditure', 'Hepatitis B',\n",
       "       'Measles ', ' BMI ', 'under-five deaths ', 'Polio', 'Total expenditure',\n",
       "       'Diphtheria ', ' HIV/AIDS', 'GDP', 'Population',\n",
       "       ' thinness  1-19 years', ' thinness 5-9 years',\n",
       "       'Income composition of resources', 'Schooling'],\n",
       "      dtype='object')"
      ]
     },
     "execution_count": 10,
     "metadata": {},
     "output_type": "execute_result"
    }
   ],
   "source": [
    "cols=df.columns\n",
    "cols"
   ]
  },
  {
   "cell_type": "code",
   "execution_count": 7,
   "metadata": {},
   "outputs": [
    {
     "output_type": "execute_result",
     "data": {
      "text/plain": [
       "14"
      ]
     },
     "metadata": {},
     "execution_count": 7
    }
   ],
   "source": [
    "df.isnull().any().sum()"
   ]
  },
  {
   "cell_type": "code",
   "execution_count": 8,
   "metadata": {},
   "outputs": [
    {
     "output_type": "execute_result",
     "data": {
      "text/plain": [
       "0"
      ]
     },
     "metadata": {},
     "execution_count": 8
    }
   ],
   "source": [
    "df.fillna(method='bfill',inplace=True)\n",
    "df.isnull().any().sum()"
   ]
  },
  {
   "cell_type": "code",
   "execution_count": 9,
   "metadata": {},
   "outputs": [],
   "source": [
    "from sklearn import preprocessing\n",
    "le = preprocessing.LabelEncoder()  \n",
    "df['Status'] = le.fit_transform(df['Status'])"
   ]
  },
  {
   "cell_type": "code",
   "execution_count": 10,
   "metadata": {},
   "outputs": [],
   "source": [
    "X=df.drop(columns=['Country','Life expectancy '])\n",
    "y=df['Life expectancy ']"
   ]
  },
  {
   "cell_type": "code",
   "execution_count": 11,
   "metadata": {},
   "outputs": [],
   "source": [
    "from sklearn.model_selection import train_test_split"
   ]
  },
  {
   "cell_type": "code",
   "execution_count": 12,
   "metadata": {},
   "outputs": [],
   "source": [
    "X_train,X_test,y_train,y_test=train_test_split(X,y,test_size=0.2,random_state=42)"
   ]
  },
  {
   "cell_type": "code",
   "execution_count": 13,
   "metadata": {},
   "outputs": [],
   "source": [
    "#Random Forest Reggression\n",
    "\n",
    "from sklearn.ensemble import RandomForestRegressor\n",
    "model=RandomForestRegressor()"
   ]
  },
  {
   "cell_type": "code",
   "execution_count": 14,
   "metadata": {},
   "outputs": [
    {
     "output_type": "execute_result",
     "data": {
      "text/plain": [
       "RandomForestRegressor(bootstrap=True, ccp_alpha=0.0, criterion='mse',\n",
       "                      max_depth=None, max_features='auto', max_leaf_nodes=None,\n",
       "                      max_samples=None, min_impurity_decrease=0.0,\n",
       "                      min_impurity_split=None, min_samples_leaf=1,\n",
       "                      min_samples_split=2, min_weight_fraction_leaf=0.0,\n",
       "                      n_estimators=100, n_jobs=None, oob_score=False,\n",
       "                      random_state=None, verbose=0, warm_start=False)"
      ]
     },
     "metadata": {},
     "execution_count": 14
    }
   ],
   "source": [
    "#training the model\n",
    "model.fit(X_train,y_train)"
   ]
  },
  {
   "cell_type": "code",
   "execution_count": 17,
   "metadata": {},
   "outputs": [
    {
     "output_type": "execute_result",
     "data": {
      "text/plain": [
       "array([72.921, 75.954, 74.947, 75.592, 52.944, 52.058, 66.6  , 73.942,\n",
       "       76.988, 55.418, 52.518, 53.025, 57.694, 73.265, 69.64 , 62.069,\n",
       "       58.481, 79.272, 70.283, 79.552, 81.272, 85.033, 72.771, 69.122,\n",
       "       72.608, 67.838, 54.401, 65.346, 82.478, 74.07 , 67.208, 74.676,\n",
       "       73.044, 72.109, 78.716, 48.472, 59.228, 72.539, 64.12 , 74.18 ,\n",
       "       54.732, 60.414, 75.264, 80.689, 76.596, 48.284, 80.04 , 73.706,\n",
       "       61.734, 72.535, 54.158, 71.886, 82.116, 80.667, 74.532, 57.32 ,\n",
       "       73.445, 74.243, 64.117, 70.546, 78.471, 54.551, 74.535, 73.108,\n",
       "       53.03 , 54.42 , 52.953, 76.875, 59.005, 72.425, 82.213, 77.749,\n",
       "       73.863, 52.36 , 54.369, 68.512, 64.245, 75.844, 57.99 , 62.385,\n",
       "       63.638, 62.892, 64.342, 64.393, 66.182, 79.854, 73.095, 67.141,\n",
       "       73.357, 80.219, 72.985, 53.757, 73.294, 75.98 , 75.381, 68.746,\n",
       "       80.149, 71.761, 66.028, 63.235, 81.792, 53.476, 74.281, 53.831,\n",
       "       75.473, 81.681, 69.239, 66.99 , 60.581, 62.08 , 64.339, 61.653,\n",
       "       53.104, 68.16 , 64.614, 77.326, 55.134, 53.129, 59.012, 63.905,\n",
       "       64.536, 72.26 , 82.155, 55.854, 58.784, 66.649, 73.434, 62.368,\n",
       "       73.171, 72.691, 74.187, 82.469, 70.88 , 66.882, 51.843, 66.74 ,\n",
       "       75.425, 78.836, 75.911, 75.05 , 72.399, 66.464, 62.368, 58.448,\n",
       "       48.626, 64.566, 70.486, 73.691, 62.536, 77.79 , 74.732, 82.691,\n",
       "       67.567, 59.886, 83.031, 77.979, 82.429, 72.183, 78.721, 81.821,\n",
       "       73.695, 81.848, 68.41 , 80.653, 72.88 , 64.434, 61.863, 82.904,\n",
       "       76.776, 71.51 , 82.005, 73.635, 71.327, 58.353, 74.601, 65.57 ,\n",
       "       72.916, 63.18 , 53.55 , 73.346, 81.999, 69.336, 79.348, 74.15 ,\n",
       "       79.881, 45.024, 64.134, 52.701, 70.725, 72.887, 60.552, 69.401,\n",
       "       78.76 , 62.352, 78.264, 68.386, 74.547, 71.187, 81.422, 72.679,\n",
       "       74.215, 56.366, 75.27 , 70.609, 65.55 , 49.644, 74.473, 69.282,\n",
       "       73.338, 82.168, 61.472, 51.609, 74.781, 52.501, 59.17 , 62.172,\n",
       "       66.12 , 75.918, 59.715, 67.003, 80.786, 74.616, 78.654, 78.788,\n",
       "       75.075, 49.819, 50.717, 74.115, 55.251, 62.962, 72.357, 75.15 ,\n",
       "       64.575, 74.699, 72.741, 51.841, 76.735, 79.105, 52.366, 75.746,\n",
       "       74.284, 71.671, 73.572, 67.803, 60.882, 54.028, 82.625, 73.442,\n",
       "       75.55 , 63.114, 68.671, 77.678, 58.695, 83.893, 73.912, 69.471,\n",
       "       57.522, 81.235, 57.78 , 54.199, 67.551, 67.382, 61.127, 52.125,\n",
       "       72.936, 81.146, 68.518, 78.379, 50.676, 52.729, 58.341, 53.312,\n",
       "       73.362, 74.103, 46.988, 72.559, 59.29 , 72.853, 63.312, 63.987,\n",
       "       66.305, 78.873, 59.033, 73.86 , 76.909, 63.146, 73.442, 45.064,\n",
       "       62.272, 74.809, 64.972, 74.006, 63.466, 76.019, 76.06 , 63.521,\n",
       "       77.809, 73.314, 47.836, 73.306, 76.345, 75.001, 72.869, 74.831,\n",
       "       80.078, 49.905, 52.526, 53.719, 73.37 , 78.455, 69.596, 57.441,\n",
       "       73.379, 62.367, 67.188, 65.092, 49.257, 72.902, 57.517, 82.303,\n",
       "       54.071, 79.611, 54.248, 72.912, 68.907, 76.444, 73.82 , 72.043,\n",
       "       74.322, 81.669, 70.606, 67.348, 63.011, 67.302, 74.632, 84.35 ,\n",
       "       68.543, 74.551, 72.924, 72.402, 65.303, 74.12 , 74.293, 72.116,\n",
       "       74.546, 54.431, 57.31 , 73.042, 71.889, 75.078, 63.682, 69.372,\n",
       "       62.593, 56.725, 73.471, 82.266, 68.311, 60.017, 73.152, 75.994,\n",
       "       55.062, 72.796, 76.974, 66.221, 68.894, 62.241, 57.643, 75.801,\n",
       "       62.298, 75.005, 73.864, 57.691, 73.057, 75.291, 72.388, 76.423,\n",
       "       56.864, 72.472, 73.093, 67.165, 51.703, 82.409, 80.577, 82.355,\n",
       "       63.311, 55.15 , 73.747, 56.869, 69.83 , 74.309, 53.909, 78.235,\n",
       "       73.515, 83.414, 64.472, 65.666, 82.199, 72.678, 84.799, 74.723,\n",
       "       53.014, 79.039, 53.095, 68.381, 63.757, 59.492, 70.605, 72.525,\n",
       "       68.611, 72.768, 72.738, 83.232, 83.573, 72.86 , 69.509, 69.253,\n",
       "       63.066, 73.563, 71.29 , 69.299, 63.469, 57.582, 65.676, 73.131,\n",
       "       73.851, 75.942, 55.371, 61.306, 70.451, 69.381, 49.198, 75.792,\n",
       "       72.658, 68.211, 45.153, 56.038, 53.757, 66.23 , 68.176, 75.35 ,\n",
       "       73.819, 72.021, 73.948, 79.33 , 82.466, 67.839, 76.816, 80.129,\n",
       "       79.059, 56.333, 82.82 , 60.41 , 69.099, 74.255, 52.863, 83.841,\n",
       "       82.399, 52.649, 67.921, 73.504, 72.34 , 58.986, 63.297, 63.16 ,\n",
       "       61.824, 55.818, 82.951, 70.371, 83.501, 68.34 , 74.106, 76.05 ,\n",
       "       71.255, 72.514, 82.074, 70.734, 63.384, 66.869, 80.752, 76.7  ,\n",
       "       76.597, 69.924, 73.175, 73.093, 67.102, 79.479, 75.009, 81.489,\n",
       "       72.627, 75.497, 73.405, 72.055, 52.99 , 66.204, 70.356, 63.62 ,\n",
       "       83.837, 73.39 , 63.007, 72.875, 74.02 , 56.309, 82.227, 72.934,\n",
       "       74.882, 82.69 , 73.74 , 79.396, 74.707, 74.178, 63.629, 71.307,\n",
       "       68.11 , 70.437, 52.892, 63.314, 60.914, 62.684, 70.133, 56.777,\n",
       "       70.677, 83.228, 70.439, 74.351, 68.267, 63.771, 63.395, 71.117,\n",
       "       77.489, 82.34 , 55.564, 74.412, 73.811, 79.206, 73.005, 82.957,\n",
       "       72.199, 75.871, 83.702, 79.838, 77.116, 52.863, 56.988, 67.714,\n",
       "       75.025, 63.336, 69.576, 57.89 , 54.067, 73.475, 74.523, 56.802,\n",
       "       82.798, 55.168, 74.511, 69.979, 77.027, 67.761, 75.858, 80.006,\n",
       "       58.744, 82.439, 82.592, 75.092, 49.298, 75.086, 79.759, 83.68 ,\n",
       "       54.204, 72.623, 74.2  , 62.637, 77.622, 72.318, 73.029, 68.313,\n",
       "       72.557, 70.892, 53.024, 74.234, 57.158, 78.776, 78.828, 57.454,\n",
       "       73.813, 65.769, 70.56 , 74.02 ])"
      ]
     },
     "metadata": {},
     "execution_count": 17
    }
   ],
   "source": [
    "y_pred=model.predict(X_test)\n",
    "y_pred"
   ]
  },
  {
   "cell_type": "code",
   "execution_count": 20,
   "metadata": {},
   "outputs": [
    {
     "data": {
      "text/plain": [
       "96.96862063273491"
      ]
     },
     "execution_count": 20,
     "metadata": {},
     "output_type": "execute_result"
    }
   ],
   "source": [
    "from sklearn.metrics import r2_score\n",
    "r2_score(y_test,y_pred)*100"
   ]
  },
  {
   "cell_type": "code",
   "execution_count": 21,
   "metadata": {},
   "outputs": [
    {
     "data": {
      "text/plain": [
       "0.9696862063273491"
      ]
     },
     "execution_count": 21,
     "metadata": {},
     "output_type": "execute_result"
    }
   ],
   "source": [
    "model.score(X_test,y_test)"
   ]
  },
  {
   "cell_type": "code",
   "execution_count": 22,
   "metadata": {},
   "outputs": [
    {
     "data": {
      "text/plain": [
       "<function matplotlib.pyplot.show(*args, **kw)>"
      ]
     },
     "execution_count": 22,
     "metadata": {},
     "output_type": "execute_result"
    },
    {
     "data": {
      "image/png": "[encoded data removed]",
      "text/plain": [
       "<Figure size 432x288 with 1 Axes>"
      ]
     },
     "metadata": {
      "needs_background": "light"
     },
     "output_type": "display_data"
    }
   ],
   "source": [
    "plt.scatter(y_test,y_pred,color='red', linewidth=3)\n",
    "plt.show"
   ]
  },
  {
   "cell_type": "code",
   "execution_count": 23,
   "metadata": {},
   "outputs": [
    {
     "name": "stdout",
     "output_type": "stream",
     "text": [
      "MAE: 1.0664727891156467\n",
      "MSE: 2.628677482993194\n",
      "RMSE: 1.621319673288767\n"
     ]
    }
   ],
   "source": [
    "from sklearn import metrics\n",
    "print('MAE:', metrics.mean_absolute_error(y_test, y_pred))\n",
    "print('MSE:', metrics.mean_squared_error(y_test, y_pred))\n",
    "print('RMSE:', np.sqrt(metrics.mean_squared_error(y_test, y_pred)))"
   ]
  },
  {
   "cell_type": "code",
   "execution_count": 24,
   "metadata": {},
   "outputs": [
    {
     "data": {
      "text/plain": [
       "0.806962946243543"
      ]
     },
     "execution_count": 24,
     "metadata": {},
     "output_type": "execute_result"
    }
   ],
   "source": [
    "from sklearn.linear_model import Ridge\n",
    "\n",
    "## training the model\n",
    "\n",
    "ridgeReg = Ridge(alpha=0.05, normalize=True)\n",
    "\n",
    "ridgeReg.fit(X_train,y_train)\n",
    "\n",
    "pred = ridgeReg.predict(X_test)\n",
    "ridgeReg.score(X_test,y_test)"
   ]
  },
  {
   "cell_type": "code",
   "execution_count": 25,
   "metadata": {},
   "outputs": [
    {
     "name": "stdout",
     "output_type": "stream",
     "text": [
      "MAE: 3.0002553015312827\n",
      "MSE: 16.739315510046193\n",
      "RMSE: 4.091370859509828\n"
     ]
    }
   ],
   "source": [
    "from sklearn import metrics\n",
    "print('MAE:', metrics.mean_absolute_error(y_test, pred))\n",
    "print('MSE:', metrics.mean_squared_error(y_test, pred))\n",
    "print('RMSE:', np.sqrt(metrics.mean_squared_error(y_test, pred)))"
   ]
  },
  {
   "cell_type": "code",
   "execution_count": 26,
   "metadata": {},
   "outputs": [
    {
     "data": {
      "text/plain": [
       "<function matplotlib.pyplot.show(*args, **kw)>"
      ]
     },
     "execution_count": 26,
     "metadata": {},
     "output_type": "execute_result"
    },
    {
     "data": {
      "image/png": "[encoded data removed]",
      "text/plain": [
       "<Figure size 432x288 with 1 Axes>"
      ]
     },
     "metadata": {
      "needs_background": "light"
     },
     "output_type": "display_data"
    }
   ],
   "source": [
    "plt.scatter(y_test,pred,color='red', linewidth=3)\n",
    "plt.show"
   ]
  },
  {
   "cell_type": "code",
   "execution_count": 27,
   "metadata": {},
   "outputs": [
    {
     "name": "stderr",
     "output_type": "stream",
     "text": [
      "D:\\Anaconda\\lib\\site-packages\\sklearn\\externals\\joblib\\__init__.py:15: FutureWarning: sklearn.externals.joblib is deprecated in 0.21 and will be removed in 0.23. Please import this functionality directly from joblib, which can be installed with: pip install joblib. If this warning is raised when loading pickled models, you may need to re-serialize those models with scikit-learn 0.21+.\n",
      "  warnings.warn(msg, category=FutureWarning)\n"
     ]
    },
    {
     "data": {
      "text/plain": [
       "['model.pkl']"
      ]
     },
     "execution_count": 27,
     "metadata": {},
     "output_type": "execute_result"
    }
   ],
   "source": [
    "from sklearn.externals import joblib\n",
    "joblib.dump(model,'model.pkl')\n",
    "    "
   ]
  },
  {
   "cell_type": "code",
   "execution_count": null,
   "metadata": {},
   "outputs": [],
   "source": []
  }
 ],
 "metadata": {
  "kernelspec": {
   "display_name": "Python 3",
   "language": "python",
   "name": "python3"
  },
  "language_info": {
   "codemirror_mode": {
    "name": "ipython",
    "version": 3
   },
   "file_extension": ".py",
   "mimetype": "text/x-python",
   "name": "python",
   "nbconvert_exporter": "python",
   "pygments_lexer": "ipython3",
   "version": "3.7.6-final"
  }
 },
 "nbformat": 4,
 "nbformat_minor": 4
}